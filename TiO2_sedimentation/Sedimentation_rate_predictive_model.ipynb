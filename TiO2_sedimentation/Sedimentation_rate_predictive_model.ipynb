{
 "cells": [
  {
   "cell_type": "code",
   "execution_count": 1,
   "id": "79417c91-8241-45c5-bcc3-6485550b6f87",
   "metadata": {},
   "outputs": [],
   "source": [
    "import pandas as pd\n",
    "import numpy as np\n",
    "import seaborn as sb\n",
    "import joblib\n",
    "import matplotlib.pyplot as plt\n",
    "\n",
    "from sklearn.preprocessing import MinMaxScaler, StandardScaler\n",
    "from sklearn.ensemble import RandomForestRegressor\n",
    "from sklearn.model_selection import train_test_split, cross_val_score, GridSearchCV, RandomizedSearchCV\n",
    "\n",
    "from sklearn.metrics import r2_score, mean_squared_error, mean_absolute_percentage_error"
   ]
  },
  {
   "cell_type": "code",
   "execution_count": 2,
   "id": "1236fde6-ea33-4294-a727-0e5d18e30f1f",
   "metadata": {},
   "outputs": [
    {
     "data": {
      "text/plain": [
       "RandomForestRegressor(max_depth=10, n_estimators=10, random_state=0)"
      ]
     },
     "execution_count": 2,
     "metadata": {},
     "output_type": "execute_result"
    }
   ],
   "source": [
    "# load the model from disk\n",
    "RF_final = joblib.load('Final_RF_model.sav')\n",
    "RF_final"
   ]
  },
  {
   "cell_type": "code",
   "execution_count": 9,
   "id": "beda17c6-ed27-456f-af38-d58caa5d57f0",
   "metadata": {},
   "outputs": [
    {
     "data": {
      "text/html": [
       "<div>\n",
       "<style scoped>\n",
       "    .dataframe tbody tr th:only-of-type {\n",
       "        vertical-align: middle;\n",
       "    }\n",
       "\n",
       "    .dataframe tbody tr th {\n",
       "        vertical-align: top;\n",
       "    }\n",
       "\n",
       "    .dataframe thead th {\n",
       "        text-align: right;\n",
       "    }\n",
       "</style>\n",
       "<table border=\"1\" class=\"dataframe\">\n",
       "  <thead>\n",
       "    <tr style=\"text-align: right;\">\n",
       "      <th></th>\n",
       "      <th>Name</th>\n",
       "      <th>Particle size (nm)</th>\n",
       "      <th>HD_60</th>\n",
       "      <th>Concentration (mg/l)</th>\n",
       "      <th>pH</th>\n",
       "    </tr>\n",
       "  </thead>\n",
       "  <tbody>\n",
       "    <tr>\n",
       "      <th>0</th>\n",
       "      <td>Ca_0</td>\n",
       "      <td>10</td>\n",
       "      <td>19.4</td>\n",
       "      <td>6.72</td>\n",
       "      <td>8</td>\n",
       "    </tr>\n",
       "    <tr>\n",
       "      <th>1</th>\n",
       "      <td>Ca_02</td>\n",
       "      <td>10</td>\n",
       "      <td>19.8</td>\n",
       "      <td>6.72</td>\n",
       "      <td>8</td>\n",
       "    </tr>\n",
       "    <tr>\n",
       "      <th>2</th>\n",
       "      <td>Ca_05</td>\n",
       "      <td>10</td>\n",
       "      <td>20.4</td>\n",
       "      <td>6.72</td>\n",
       "      <td>8</td>\n",
       "    </tr>\n",
       "    <tr>\n",
       "      <th>3</th>\n",
       "      <td>Ca_1</td>\n",
       "      <td>10</td>\n",
       "      <td>675.4</td>\n",
       "      <td>6.72</td>\n",
       "      <td>8</td>\n",
       "    </tr>\n",
       "    <tr>\n",
       "      <th>4</th>\n",
       "      <td>Ca_2</td>\n",
       "      <td>10</td>\n",
       "      <td>1561.1</td>\n",
       "      <td>6.72</td>\n",
       "      <td>8</td>\n",
       "    </tr>\n",
       "  </tbody>\n",
       "</table>\n",
       "</div>"
      ],
      "text/plain": [
       "    Name  Particle size (nm)   HD_60  Concentration (mg/l)  pH\n",
       "0   Ca_0                  10    19.4                  6.72   8\n",
       "1  Ca_02                  10    19.8                  6.72   8\n",
       "2  Ca_05                  10    20.4                  6.72   8\n",
       "3   Ca_1                  10   675.4                  6.72   8\n",
       "4   Ca_2                  10  1561.1                  6.72   8"
      ]
     },
     "execution_count": 9,
     "metadata": {},
     "output_type": "execute_result"
    }
   ],
   "source": [
    "# Load the csv with the TiO2 that we want to predict the ksed value.\n",
    "#df = pd.read_csv(\"C:/Users/vassi/Documents/GitHub/TiO2_aggregation_and_uptake/Exposure/Fan_2016/data/Fan_2016_ksed_predictions.csv\")\n",
    "#df = pd.read_csv(\"C:/Users/vassi/Documents/GitHub/TiO2_aggregation_and_uptake/Exposure/Zhu_2010/data/Zhu_2010_ksed_predictions.csv\")\n",
    "#df = pd.read_csv(\"C:/Users/vassi/Documents/GitHub/TiO2_aggregation_and_uptake/Exposure/Fan_2018/data/Fan_2018_ksed_predictions.csv\")\n",
    "df = pd.read_csv(\"C:/Users/vassi/Documents/GitHub/TiO2_aggregation_and_uptake/Exposure/Tan_2016/data/Tan_2016_ksed_predictions.csv\")\n",
    "\n",
    "df"
   ]
  },
  {
   "cell_type": "code",
   "execution_count": 10,
   "id": "470928e9-ad03-441f-ba21-aa5b28855c78",
   "metadata": {},
   "outputs": [
    {
     "data": {
      "text/html": [
       "<div>\n",
       "<style scoped>\n",
       "    .dataframe tbody tr th:only-of-type {\n",
       "        vertical-align: middle;\n",
       "    }\n",
       "\n",
       "    .dataframe tbody tr th {\n",
       "        vertical-align: top;\n",
       "    }\n",
       "\n",
       "    .dataframe thead th {\n",
       "        text-align: right;\n",
       "    }\n",
       "</style>\n",
       "<table border=\"1\" class=\"dataframe\">\n",
       "  <thead>\n",
       "    <tr style=\"text-align: right;\">\n",
       "      <th></th>\n",
       "      <th>Particle size (nm)</th>\n",
       "      <th>HD_60</th>\n",
       "      <th>Concentration (mg/l)</th>\n",
       "      <th>pH</th>\n",
       "    </tr>\n",
       "  </thead>\n",
       "  <tbody>\n",
       "    <tr>\n",
       "      <th>0</th>\n",
       "      <td>0.0</td>\n",
       "      <td>-0.725028</td>\n",
       "      <td>-8.881784e-16</td>\n",
       "      <td>0.0</td>\n",
       "    </tr>\n",
       "    <tr>\n",
       "      <th>1</th>\n",
       "      <td>0.0</td>\n",
       "      <td>-0.724369</td>\n",
       "      <td>-8.881784e-16</td>\n",
       "      <td>0.0</td>\n",
       "    </tr>\n",
       "    <tr>\n",
       "      <th>2</th>\n",
       "      <td>0.0</td>\n",
       "      <td>-0.723380</td>\n",
       "      <td>-8.881784e-16</td>\n",
       "      <td>0.0</td>\n",
       "    </tr>\n",
       "    <tr>\n",
       "      <th>3</th>\n",
       "      <td>0.0</td>\n",
       "      <td>0.356365</td>\n",
       "      <td>-8.881784e-16</td>\n",
       "      <td>0.0</td>\n",
       "    </tr>\n",
       "    <tr>\n",
       "      <th>4</th>\n",
       "      <td>0.0</td>\n",
       "      <td>1.816411</td>\n",
       "      <td>-8.881784e-16</td>\n",
       "      <td>0.0</td>\n",
       "    </tr>\n",
       "  </tbody>\n",
       "</table>\n",
       "</div>"
      ],
      "text/plain": [
       "   Particle size (nm)     HD_60  Concentration (mg/l)   pH\n",
       "0                 0.0 -0.725028         -8.881784e-16  0.0\n",
       "1                 0.0 -0.724369         -8.881784e-16  0.0\n",
       "2                 0.0 -0.723380         -8.881784e-16  0.0\n",
       "3                 0.0  0.356365         -8.881784e-16  0.0\n",
       "4                 0.0  1.816411         -8.881784e-16  0.0"
      ]
     },
     "execution_count": 10,
     "metadata": {},
     "output_type": "execute_result"
    }
   ],
   "source": [
    "#Process the data \n",
    "#scale the columns\n",
    "x = df.drop([\"Name\"], axis=1)\n",
    "columns = x.columns\n",
    "scaler = StandardScaler()\n",
    "x_scaled = scaler.fit_transform(x)\n",
    "x_scaled = pd.DataFrame(x_scaled, columns = columns)\n",
    "x_scaled"
   ]
  },
  {
   "cell_type": "code",
   "execution_count": 11,
   "id": "3b62d556-d771-46a6-83ab-76b508ebc16b",
   "metadata": {},
   "outputs": [
    {
     "data": {
      "text/plain": [
       "array([0.091043, 0.091043, 0.091043, 0.10632 , 0.13162 ])"
      ]
     },
     "execution_count": 11,
     "metadata": {},
     "output_type": "execute_result"
    }
   ],
   "source": [
    "# take predictions of ksed\n",
    "y_predicted = RF_final.predict(x_scaled)\n",
    "y_predicted"
   ]
  },
  {
   "cell_type": "code",
   "execution_count": 12,
   "id": "5c17bf40-a488-4506-91bd-ba7ab9e596f8",
   "metadata": {},
   "outputs": [],
   "source": [
    "df['y_pred'] = y_predicted"
   ]
  },
  {
   "cell_type": "code",
   "execution_count": 13,
   "id": "eb66b017-dc61-49fd-8b1a-60a17aaa5f34",
   "metadata": {
    "tags": []
   },
   "outputs": [
    {
     "data": {
      "text/html": [
       "<div>\n",
       "<style scoped>\n",
       "    .dataframe tbody tr th:only-of-type {\n",
       "        vertical-align: middle;\n",
       "    }\n",
       "\n",
       "    .dataframe tbody tr th {\n",
       "        vertical-align: top;\n",
       "    }\n",
       "\n",
       "    .dataframe thead th {\n",
       "        text-align: right;\n",
       "    }\n",
       "</style>\n",
       "<table border=\"1\" class=\"dataframe\">\n",
       "  <thead>\n",
       "    <tr style=\"text-align: right;\">\n",
       "      <th></th>\n",
       "      <th>Name</th>\n",
       "      <th>Particle size (nm)</th>\n",
       "      <th>HD_60</th>\n",
       "      <th>Concentration (mg/l)</th>\n",
       "      <th>pH</th>\n",
       "      <th>y_pred</th>\n",
       "    </tr>\n",
       "  </thead>\n",
       "  <tbody>\n",
       "    <tr>\n",
       "      <th>0</th>\n",
       "      <td>Ca_0</td>\n",
       "      <td>10</td>\n",
       "      <td>19.4</td>\n",
       "      <td>6.72</td>\n",
       "      <td>8</td>\n",
       "      <td>0.091043</td>\n",
       "    </tr>\n",
       "    <tr>\n",
       "      <th>1</th>\n",
       "      <td>Ca_02</td>\n",
       "      <td>10</td>\n",
       "      <td>19.8</td>\n",
       "      <td>6.72</td>\n",
       "      <td>8</td>\n",
       "      <td>0.091043</td>\n",
       "    </tr>\n",
       "    <tr>\n",
       "      <th>2</th>\n",
       "      <td>Ca_05</td>\n",
       "      <td>10</td>\n",
       "      <td>20.4</td>\n",
       "      <td>6.72</td>\n",
       "      <td>8</td>\n",
       "      <td>0.091043</td>\n",
       "    </tr>\n",
       "    <tr>\n",
       "      <th>3</th>\n",
       "      <td>Ca_1</td>\n",
       "      <td>10</td>\n",
       "      <td>675.4</td>\n",
       "      <td>6.72</td>\n",
       "      <td>8</td>\n",
       "      <td>0.106320</td>\n",
       "    </tr>\n",
       "    <tr>\n",
       "      <th>4</th>\n",
       "      <td>Ca_2</td>\n",
       "      <td>10</td>\n",
       "      <td>1561.1</td>\n",
       "      <td>6.72</td>\n",
       "      <td>8</td>\n",
       "      <td>0.131620</td>\n",
       "    </tr>\n",
       "  </tbody>\n",
       "</table>\n",
       "</div>"
      ],
      "text/plain": [
       "    Name  Particle size (nm)   HD_60  Concentration (mg/l)  pH    y_pred\n",
       "0   Ca_0                  10    19.4                  6.72   8  0.091043\n",
       "1  Ca_02                  10    19.8                  6.72   8  0.091043\n",
       "2  Ca_05                  10    20.4                  6.72   8  0.091043\n",
       "3   Ca_1                  10   675.4                  6.72   8  0.106320\n",
       "4   Ca_2                  10  1561.1                  6.72   8  0.131620"
      ]
     },
     "execution_count": 13,
     "metadata": {},
     "output_type": "execute_result"
    }
   ],
   "source": [
    "df"
   ]
  },
  {
   "cell_type": "code",
   "execution_count": 14,
   "id": "be7fc860-d4d2-425c-a24a-1c62a554b9a3",
   "metadata": {},
   "outputs": [],
   "source": [
    "# df.to_csv('C:/Users/vassi/Documents/GitHub/TiO2_aggregation_and_uptake/Exposure/Fan_2016/data/Fan_2016_ksed_predictions.csv',\n",
    "#           sep=',', encoding='utf-8', index=False)\n",
    "# df.to_csv('C:/Users/vassi/Documents/GitHub/TiO2_aggregation_and_uptake/Exposure/Zhu_2010/data/Zhu_2010_ksed_predictions.csv',\n",
    "#           sep=',', encoding='utf-8', index=False)\n",
    "# df.to_csv('C:/Users/vassi/Documents/GitHub/TiO2_aggregation_and_uptake/Exposure/Fan_2018/data/Fan_2018_ksed_predictions.csv',\n",
    "#           sep=',', encoding='utf-8', index=False)\n",
    "df.to_csv('C:/Users/vassi/Documents/GitHub/TiO2_aggregation_and_uptake/Exposure/Tan_2016/data/Tan_2016_ksed_predictions.csv',\n",
    "          sep=',', encoding='utf-8', index=False)"
   ]
  }
 ],
 "metadata": {
  "kernelspec": {
   "display_name": "Python 3 (ipykernel)",
   "language": "python",
   "name": "python3"
  },
  "language_info": {
   "codemirror_mode": {
    "name": "ipython",
    "version": 3
   },
   "file_extension": ".py",
   "mimetype": "text/x-python",
   "name": "python",
   "nbconvert_exporter": "python",
   "pygments_lexer": "ipython3",
   "version": "3.9.13"
  }
 },
 "nbformat": 4,
 "nbformat_minor": 5
}
